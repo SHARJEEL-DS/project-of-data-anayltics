{
 "cells": [
  {
   "cell_type": "code",
   "execution_count": 1,
   "id": "5ad4b802",
   "metadata": {},
   "outputs": [],
   "source": [
    "from sklearn import linear_model"
   ]
  },
  {
   "cell_type": "code",
   "execution_count": 2,
   "id": "eb0bbc15",
   "metadata": {},
   "outputs": [],
   "source": [
    "import seaborn as sns"
   ]
  },
  {
   "cell_type": "code",
   "execution_count": 3,
   "id": "44b071bd",
   "metadata": {},
   "outputs": [],
   "source": [
    "import numpy as np"
   ]
  },
  {
   "cell_type": "code",
   "execution_count": 4,
   "id": "cd180aa7",
   "metadata": {},
   "outputs": [],
   "source": [
    "import pandas as pd"
   ]
  },
  {
   "cell_type": "code",
   "execution_count": 5,
   "id": "9d5c2be7",
   "metadata": {},
   "outputs": [],
   "source": [
    "from sklearn.model_selection import train_test_split"
   ]
  },
  {
   "cell_type": "code",
   "execution_count": 6,
   "id": "5b67aae2",
   "metadata": {},
   "outputs": [],
   "source": [
    "from sklearn.ensemble import RandomForestRegressor"
   ]
  },
  {
   "cell_type": "code",
   "execution_count": 7,
   "id": "c79ff207",
   "metadata": {},
   "outputs": [],
   "source": [
    "from sklearn import metrics"
   ]
  },
  {
   "cell_type": "code",
   "execution_count": 8,
   "id": "9993acf6",
   "metadata": {},
   "outputs": [],
   "source": [
    "import matplotlib.pyplot as plt"
   ]
  },
  {
   "cell_type": "code",
   "execution_count": 9,
   "id": "0c682106",
   "metadata": {},
   "outputs": [],
   "source": [
    "gold = pd.read_csv(r'E:\\usa datasets\\gld_price_data.csv') "
   ]
  },
  {
   "cell_type": "code",
   "execution_count": 10,
   "id": "a3473099",
   "metadata": {},
   "outputs": [
    {
     "data": {
      "text/html": [
       "<div>\n",
       "<style scoped>\n",
       "    .dataframe tbody tr th:only-of-type {\n",
       "        vertical-align: middle;\n",
       "    }\n",
       "\n",
       "    .dataframe tbody tr th {\n",
       "        vertical-align: top;\n",
       "    }\n",
       "\n",
       "    .dataframe thead th {\n",
       "        text-align: right;\n",
       "    }\n",
       "</style>\n",
       "<table border=\"1\" class=\"dataframe\">\n",
       "  <thead>\n",
       "    <tr style=\"text-align: right;\">\n",
       "      <th></th>\n",
       "      <th>Date</th>\n",
       "      <th>SPX</th>\n",
       "      <th>GLD</th>\n",
       "      <th>USO</th>\n",
       "      <th>SLV</th>\n",
       "      <th>EUR/USD</th>\n",
       "    </tr>\n",
       "  </thead>\n",
       "  <tbody>\n",
       "    <tr>\n",
       "      <th>0</th>\n",
       "      <td>1/2/2008</td>\n",
       "      <td>1447.160034</td>\n",
       "      <td>84.860001</td>\n",
       "      <td>78.470001</td>\n",
       "      <td>15.180</td>\n",
       "      <td>1.471692</td>\n",
       "    </tr>\n",
       "    <tr>\n",
       "      <th>1</th>\n",
       "      <td>1/3/2008</td>\n",
       "      <td>1447.160034</td>\n",
       "      <td>85.570000</td>\n",
       "      <td>78.370003</td>\n",
       "      <td>15.285</td>\n",
       "      <td>1.474491</td>\n",
       "    </tr>\n",
       "    <tr>\n",
       "      <th>2</th>\n",
       "      <td>1/4/2008</td>\n",
       "      <td>1411.630005</td>\n",
       "      <td>85.129997</td>\n",
       "      <td>77.309998</td>\n",
       "      <td>15.167</td>\n",
       "      <td>1.475492</td>\n",
       "    </tr>\n",
       "    <tr>\n",
       "      <th>3</th>\n",
       "      <td>1/7/2008</td>\n",
       "      <td>1416.180054</td>\n",
       "      <td>84.769997</td>\n",
       "      <td>75.500000</td>\n",
       "      <td>15.053</td>\n",
       "      <td>1.468299</td>\n",
       "    </tr>\n",
       "    <tr>\n",
       "      <th>4</th>\n",
       "      <td>1/8/2008</td>\n",
       "      <td>1390.189941</td>\n",
       "      <td>86.779999</td>\n",
       "      <td>76.059998</td>\n",
       "      <td>15.590</td>\n",
       "      <td>1.557099</td>\n",
       "    </tr>\n",
       "  </tbody>\n",
       "</table>\n",
       "</div>"
      ],
      "text/plain": [
       "       Date          SPX        GLD        USO     SLV   EUR/USD\n",
       "0  1/2/2008  1447.160034  84.860001  78.470001  15.180  1.471692\n",
       "1  1/3/2008  1447.160034  85.570000  78.370003  15.285  1.474491\n",
       "2  1/4/2008  1411.630005  85.129997  77.309998  15.167  1.475492\n",
       "3  1/7/2008  1416.180054  84.769997  75.500000  15.053  1.468299\n",
       "4  1/8/2008  1390.189941  86.779999  76.059998  15.590  1.557099"
      ]
     },
     "execution_count": 10,
     "metadata": {},
     "output_type": "execute_result"
    }
   ],
   "source": [
    "gold.head(5)"
   ]
  },
  {
   "cell_type": "code",
   "execution_count": 11,
   "id": "eddda5f6",
   "metadata": {},
   "outputs": [
    {
     "name": "stdout",
     "output_type": "stream",
     "text": [
      "<class 'pandas.core.frame.DataFrame'>\n",
      "RangeIndex: 2290 entries, 0 to 2289\n",
      "Data columns (total 6 columns):\n",
      " #   Column   Non-Null Count  Dtype  \n",
      "---  ------   --------------  -----  \n",
      " 0   Date     2290 non-null   object \n",
      " 1   SPX      2290 non-null   float64\n",
      " 2   GLD      2290 non-null   float64\n",
      " 3   USO      2290 non-null   float64\n",
      " 4   SLV      2290 non-null   float64\n",
      " 5   EUR/USD  2290 non-null   float64\n",
      "dtypes: float64(5), object(1)\n",
      "memory usage: 107.5+ KB\n"
     ]
    }
   ],
   "source": [
    "gold.info()"
   ]
  },
  {
   "cell_type": "code",
   "execution_count": 12,
   "id": "9fc384e8",
   "metadata": {},
   "outputs": [
    {
     "data": {
      "text/html": [
       "<div>\n",
       "<style scoped>\n",
       "    .dataframe tbody tr th:only-of-type {\n",
       "        vertical-align: middle;\n",
       "    }\n",
       "\n",
       "    .dataframe tbody tr th {\n",
       "        vertical-align: top;\n",
       "    }\n",
       "\n",
       "    .dataframe thead th {\n",
       "        text-align: right;\n",
       "    }\n",
       "</style>\n",
       "<table border=\"1\" class=\"dataframe\">\n",
       "  <thead>\n",
       "    <tr style=\"text-align: right;\">\n",
       "      <th></th>\n",
       "      <th>SPX</th>\n",
       "      <th>GLD</th>\n",
       "      <th>USO</th>\n",
       "      <th>SLV</th>\n",
       "      <th>EUR/USD</th>\n",
       "    </tr>\n",
       "  </thead>\n",
       "  <tbody>\n",
       "    <tr>\n",
       "      <th>count</th>\n",
       "      <td>2290.000000</td>\n",
       "      <td>2290.000000</td>\n",
       "      <td>2290.000000</td>\n",
       "      <td>2290.000000</td>\n",
       "      <td>2290.000000</td>\n",
       "    </tr>\n",
       "    <tr>\n",
       "      <th>mean</th>\n",
       "      <td>1654.315776</td>\n",
       "      <td>122.732875</td>\n",
       "      <td>31.842221</td>\n",
       "      <td>20.084997</td>\n",
       "      <td>1.283653</td>\n",
       "    </tr>\n",
       "    <tr>\n",
       "      <th>std</th>\n",
       "      <td>519.111540</td>\n",
       "      <td>23.283346</td>\n",
       "      <td>19.523517</td>\n",
       "      <td>7.092566</td>\n",
       "      <td>0.131547</td>\n",
       "    </tr>\n",
       "    <tr>\n",
       "      <th>min</th>\n",
       "      <td>676.530029</td>\n",
       "      <td>70.000000</td>\n",
       "      <td>7.960000</td>\n",
       "      <td>8.850000</td>\n",
       "      <td>1.039047</td>\n",
       "    </tr>\n",
       "    <tr>\n",
       "      <th>25%</th>\n",
       "      <td>1239.874969</td>\n",
       "      <td>109.725000</td>\n",
       "      <td>14.380000</td>\n",
       "      <td>15.570000</td>\n",
       "      <td>1.171313</td>\n",
       "    </tr>\n",
       "    <tr>\n",
       "      <th>50%</th>\n",
       "      <td>1551.434998</td>\n",
       "      <td>120.580002</td>\n",
       "      <td>33.869999</td>\n",
       "      <td>17.268500</td>\n",
       "      <td>1.303297</td>\n",
       "    </tr>\n",
       "    <tr>\n",
       "      <th>75%</th>\n",
       "      <td>2073.010070</td>\n",
       "      <td>132.840004</td>\n",
       "      <td>37.827501</td>\n",
       "      <td>22.882500</td>\n",
       "      <td>1.369971</td>\n",
       "    </tr>\n",
       "    <tr>\n",
       "      <th>max</th>\n",
       "      <td>2872.870117</td>\n",
       "      <td>184.589996</td>\n",
       "      <td>117.480003</td>\n",
       "      <td>47.259998</td>\n",
       "      <td>1.598798</td>\n",
       "    </tr>\n",
       "  </tbody>\n",
       "</table>\n",
       "</div>"
      ],
      "text/plain": [
       "               SPX          GLD          USO          SLV      EUR/USD\n",
       "count  2290.000000  2290.000000  2290.000000  2290.000000  2290.000000\n",
       "mean   1654.315776   122.732875    31.842221    20.084997     1.283653\n",
       "std     519.111540    23.283346    19.523517     7.092566     0.131547\n",
       "min     676.530029    70.000000     7.960000     8.850000     1.039047\n",
       "25%    1239.874969   109.725000    14.380000    15.570000     1.171313\n",
       "50%    1551.434998   120.580002    33.869999    17.268500     1.303297\n",
       "75%    2073.010070   132.840004    37.827501    22.882500     1.369971\n",
       "max    2872.870117   184.589996   117.480003    47.259998     1.598798"
      ]
     },
     "execution_count": 12,
     "metadata": {},
     "output_type": "execute_result"
    }
   ],
   "source": [
    "gold.describe()"
   ]
  },
  {
   "cell_type": "code",
   "execution_count": 13,
   "id": "089d7cbe",
   "metadata": {},
   "outputs": [],
   "source": [
    "correlation = gold.corr()"
   ]
  },
  {
   "cell_type": "code",
   "execution_count": 32,
   "id": "3b166925",
   "metadata": {},
   "outputs": [
    {
     "data": {
      "text/plain": [
       "<AxesSubplot:>"
      ]
     },
     "execution_count": 32,
     "metadata": {},
     "output_type": "execute_result"
    },
    {
     "data": {
      "image/png": "[encoded data removed]",
      "text/plain": [
       "<Figure size 576x576 with 2 Axes>"
      ]
     },
     "metadata": {
      "needs_background": "light"
     },
     "output_type": "display_data"
    }
   ],
   "source": [
    "plt.figure(figsize = (8,8))\n",
    "sns.heatmap(correlation,cbar=True,square=True,fmt='1f',annot=True,annot_kws={'size':10},cmap='Blues')\n",
    " "
   ]
  },
  {
   "cell_type": "code",
   "execution_count": 15,
   "id": "14be73f8",
   "metadata": {},
   "outputs": [],
   "source": [
    "#print(correlation['GLD'])"
   ]
  },
  {
   "cell_type": "code",
   "execution_count": 16,
   "id": "482c1d6a",
   "metadata": {},
   "outputs": [
    {
     "name": "stderr",
     "output_type": "stream",
     "text": [
      "C:\\Users\\Hp\\AppData\\Local\\Programs\\Python\\Python310\\lib\\site-packages\\seaborn\\distributions.py:2619: FutureWarning: `distplot` is a deprecated function and will be removed in a future version. Please adapt your code to use either `displot` (a figure-level function with similar flexibility) or `histplot` (an axes-level function for histograms).\n",
      "  warnings.warn(msg, FutureWarning)\n"
     ]
    },
    {
     "data": {
      "text/plain": [
       "<AxesSubplot:xlabel='GLD', ylabel='Density'>"
      ]
     },
     "execution_count": 16,
     "metadata": {},
     "output_type": "execute_result"
    },
    {
     "data": {
      "image/png": "[encoded data removed]",
      "text/plain": [
       "<Figure size 432x288 with 1 Axes>"
      ]
     },
     "metadata": {
      "needs_background": "light"
     },
     "output_type": "display_data"
    }
   ],
   "source": [
    "sns.distplot(gold['GLD'],color='green')"
   ]
  },
  {
   "cell_type": "code",
   "execution_count": 17,
   "id": "00b3521c",
   "metadata": {},
   "outputs": [],
   "source": [
    "X = gold.drop(['Date','GLD'],axis=1)"
   ]
  },
  {
   "cell_type": "code",
   "execution_count": 18,
   "id": "3bf4580d",
   "metadata": {},
   "outputs": [],
   "source": [
    "Y = gold['GLD']"
   ]
  },
  {
   "cell_type": "code",
   "execution_count": 19,
   "id": "d6cefcaa",
   "metadata": {},
   "outputs": [
    {
     "name": "stdout",
     "output_type": "stream",
     "text": [
      "              SPX        USO      SLV   EUR/USD\n",
      "0     1447.160034  78.470001  15.1800  1.471692\n",
      "1     1447.160034  78.370003  15.2850  1.474491\n",
      "2     1411.630005  77.309998  15.1670  1.475492\n",
      "3     1416.180054  75.500000  15.0530  1.468299\n",
      "4     1390.189941  76.059998  15.5900  1.557099\n",
      "...           ...        ...      ...       ...\n",
      "2285  2671.919922  14.060000  15.5100  1.186789\n",
      "2286  2697.790039  14.370000  15.5300  1.184722\n",
      "2287  2723.070068  14.410000  15.7400  1.191753\n",
      "2288  2730.129883  14.380000  15.5600  1.193118\n",
      "2289  2725.780029  14.405800  15.4542  1.182033\n",
      "\n",
      "[2290 rows x 4 columns]\n"
     ]
    }
   ],
   "source": [
    "print(X)"
   ]
  },
  {
   "cell_type": "code",
   "execution_count": 20,
   "id": "c333d49f",
   "metadata": {},
   "outputs": [
    {
     "name": "stdout",
     "output_type": "stream",
     "text": [
      "0        84.860001\n",
      "1        85.570000\n",
      "2        85.129997\n",
      "3        84.769997\n",
      "4        86.779999\n",
      "           ...    \n",
      "2285    124.589996\n",
      "2286    124.330002\n",
      "2287    125.180000\n",
      "2288    124.489998\n",
      "2289    122.543800\n",
      "Name: GLD, Length: 2290, dtype: float64\n"
     ]
    }
   ],
   "source": [
    "print(Y)"
   ]
  },
  {
   "cell_type": "code",
   "execution_count": 21,
   "id": "ea821a14",
   "metadata": {},
   "outputs": [],
   "source": [
    "X_train,X_test,Y_train,Y_test = train_test_split(X,Y,test_size=0.2,random_state = 2)"
   ]
  },
  {
   "cell_type": "code",
   "execution_count": 22,
   "id": "f9fd1381",
   "metadata": {},
   "outputs": [],
   "source": [
    "regressor =  RandomForestRegressor(n_estimators=100)"
   ]
  },
  {
   "cell_type": "code",
   "execution_count": 23,
   "id": "8de66d40",
   "metadata": {},
   "outputs": [
    {
     "data": {
      "text/plain": [
       "RandomForestRegressor()"
      ]
     },
     "execution_count": 23,
     "metadata": {},
     "output_type": "execute_result"
    }
   ],
   "source": [
    "regressor.fit(X_train,Y_train)"
   ]
  },
  {
   "cell_type": "code",
   "execution_count": 24,
   "id": "fa01a7a4",
   "metadata": {},
   "outputs": [],
   "source": [
    "test_data_predication = regressor.predict(X_test)"
   ]
  },
  {
   "cell_type": "code",
   "execution_count": 25,
   "id": "f02b5f78",
   "metadata": {},
   "outputs": [
    {
     "name": "stdout",
     "output_type": "stream",
     "text": [
      "[168.87179977  82.00499986 115.94159998 127.55290076 120.70200126\n",
      " 154.76069734 150.29999906 126.10200056 117.47949865 126.0667006\n",
      " 116.80540108 171.18390089 141.28899893 167.82149798 115.18830019\n",
      " 117.51250038 139.51760283 170.36020131 159.66160373 159.90069938\n",
      " 154.86959983 125.16120016 176.48759975 157.2522043  125.24110036\n",
      "  93.80169952  76.85810017 120.47159983 118.99629873 167.48680019\n",
      "  88.1522007  125.0135998   90.96910048 117.71240048 121.12749907\n",
      " 136.82770085 115.51810137 114.99650079 148.73609999 107.38910122\n",
      " 104.38850245  87.04039812 126.5963005  117.97949989 153.34939897\n",
      " 119.58610003 108.36499993 108.16279837  93.22190041 127.12609754\n",
      "  74.45870055 113.71349945 121.02569987 111.41059934 118.81059883\n",
      " 121.15669924 159.00730018 167.35260115 147.28979656  86.14199896\n",
      "  94.47620039  86.86279866  90.48770055 119.03260079 126.37470097\n",
      " 127.40729974 168.60719909 122.31229954 117.40439914  98.37780006\n",
      " 168.24400076 143.23229834 132.01740171 121.19960222 121.18639951\n",
      " 119.70560068 114.6348015  118.22800073 107.38690104 127.93340089\n",
      " 114.10909961 107.43970007 116.82690038 119.7139982   88.61680052\n",
      "  88.32819874 146.73350264 127.15419998 113.14500039 110.38369816\n",
      " 108.26169897  77.21019928 169.12100171 114.1192993  121.54639946\n",
      " 127.85120142 154.90409812  91.74939924 135.90190063 159.11130276\n",
      " 125.82220043 125.18050071 130.58720217 114.94320113 119.86900063\n",
      "  92.09519979 110.31259867 166.81339858 157.19249881 114.31079943\n",
      " 106.52200168  79.31039999 113.32800023 125.8741008  107.1740992\n",
      " 119.32020078 156.00830292 159.55579901 120.43789977 134.15180259\n",
      " 101.40379993 117.47139797 119.32529985 112.97080057 102.78349943\n",
      " 160.17899778  99.39000043 147.7936985  125.3752011  169.6132996\n",
      " 125.64049947 127.33709766 127.48430173 113.83699938 112.85190093\n",
      " 123.67839906 102.09429924  89.31819997 124.73239935 101.3748995\n",
      " 107.04529946 113.95559995 117.20240089  99.36699934 121.76020067\n",
      " 163.21489879  87.33959871 106.80069981 117.12390084 127.76570166\n",
      " 123.9393005   80.72469924 120.44400076 158.15269827  88.04219937\n",
      " 110.29889992 118.64979913 171.95649881 102.92299897 105.62600036\n",
      " 122.41180031 158.76409774  87.52049813  93.13470033 112.57370013\n",
      " 177.30670022 113.95990006 119.38289995  94.80580097 125.80240025\n",
      " 165.35610148 115.02320083 116.62790121  88.34299875 149.03350064\n",
      " 120.29029963  89.56809981 112.32350022 117.29850028 118.86660121\n",
      "  88.10669979  94.32600025 116.83329986 118.62100206 120.391201\n",
      " 126.77839851 121.92239982 149.7584001  165.68260054 118.52609979\n",
      " 120.25920175 150.97730084 118.47859899 172.24649909 105.70259914\n",
      " 104.9670015  149.53670071 113.56830072 124.76650129 147.44369937\n",
      " 119.78190116 115.42340059 112.8817002  113.56730226 141.67970227\n",
      " 117.92989751 102.89870065 115.80840061 103.75400174  98.75630042\n",
      " 117.32120072  90.67319986  91.54580011 153.40449851 102.70709983\n",
      " 154.86160062 114.44530212 138.91530125  90.12469854 115.48189943\n",
      " 114.66149948 123.09170047 121.66120016 165.21740142  92.77599946\n",
      " 135.57530167 121.3072999  120.42680071 104.61619997 141.71760305\n",
      " 121.44419934 116.64580058 113.24160106 127.00129806 122.68559933\n",
      " 125.89379975 121.26270038  86.92559897 132.45780158 145.69110164\n",
      "  92.68939956 158.34340036 158.67970208 126.24489956 164.13599931\n",
      " 108.64469954 110.09340092 103.78449856  94.45930036 127.59960268\n",
      " 107.02410052 161.00340032 121.75710058 131.89360054 130.52660159\n",
      " 160.55829965  90.16569886 176.31150231 127.78399973 126.96339853\n",
      "  86.55529956 124.60950016 150.4724975   89.62260011 106.91049977\n",
      " 109.1386999   84.23849896 136.14969936 155.68790196 138.94140383\n",
      "  74.15390033 152.79450181 126.04300021 126.7200004  127.44829896\n",
      " 108.81239929 156.52410028 114.6853012  116.8277017  125.00529915\n",
      " 153.73960197 121.44929987 156.41819888  92.90980078 125.49830175\n",
      " 125.86180039  87.84970063  92.03739965 126.33209921 128.56730363\n",
      " 113.05400053 117.59979757 120.84030023 127.13849825 119.52380106\n",
      " 136.33430071  93.78059911 119.95570016 113.56290087  94.29669939\n",
      " 109.10019936  86.88209928 109.13829904  89.56409962  92.32370027\n",
      " 131.44910326 162.26129997  89.34809966 119.62650117 133.65770176\n",
      " 123.78660006 128.497702   101.90989876  89.10059879 131.38880072\n",
      " 119.85050034 108.48549981 168.03390081 115.21330044  86.63359888\n",
      " 118.92740069  91.09269955 161.8482     116.55230045 121.49340011\n",
      " 160.44229876 119.96249927 112.80179954 108.48939873 126.94839977\n",
      "  75.89990051 102.99049983 127.41360241 121.85819928  92.50480022\n",
      " 132.26910032 118.1216009  115.8807     154.27670292 160.17020085\n",
      " 110.06889979 156.48009777 119.35630112 160.25480117 118.33200038\n",
      " 158.39209965 115.11399955 116.60420022 148.55409884 114.84710091\n",
      " 125.83809868 165.35439775 117.84769989 125.0550994  153.16940341\n",
      " 153.42860272 132.28660059 114.75990041 121.27010205 125.01830066\n",
      "  89.8551002  123.12189986 155.20810211 111.73600027 106.77669984\n",
      " 161.77280112 118.33989961 165.58069944 134.02330138 114.77049958\n",
      " 152.99889871 168.55530014 113.78140017 114.12520153 158.0411986\n",
      "  84.78719919 127.07510074 128.04650051 128.80969979 124.27880096\n",
      " 123.93420084  90.7376006  153.36949978  97.3034     136.88319981\n",
      "  88.99689922 107.51280012 115.07660071 112.89980083 124.10959913\n",
      "  91.43239902 125.36370147 162.05479912 120.04419897 164.86150138\n",
      " 126.79709845 112.39350014 127.63689968  95.11599914  90.7069001\n",
      " 103.71409884 120.76420005  82.7807993  126.30629993 160.35480474\n",
      " 117.31540101 118.21259974 119.79539983 123.1990999  120.01180138\n",
      " 121.60999989 118.09920086 107.05840005 148.25119958 126.14559898\n",
      " 115.68890074  74.0694999  127.75480044 154.58770073 122.30290002\n",
      " 125.55550061  88.81620036 103.66199858 123.8777003  120.28010007\n",
      "  73.4648008  151.46130005 120.90660034 104.61560028  85.97219794\n",
      " 114.98249913 172.21709905 119.73380068 160.43799732 113.1813995\n",
      " 121.11220026 118.47150094  96.02949991 119.01000036 125.85360014\n",
      " 118.46509959  96.04780055 154.15870172 122.26920003 147.69589932\n",
      " 158.90070148 113.99660007 122.62889932 149.41149756 127.05710049\n",
      " 166.01830003 135.34720034 120.02510023 167.42409781 108.47759949\n",
      " 121.65449831 139.81940219 106.46659869]\n"
     ]
    }
   ],
   "source": [
    "print(test_data_predication)"
   ]
  },
  {
   "cell_type": "code",
   "execution_count": 26,
   "id": "aba7c06a",
   "metadata": {},
   "outputs": [],
   "source": [
    "error_score = metrics.r2_score(Y_test,test_data_predication)"
   ]
  },
  {
   "cell_type": "code",
   "execution_count": 27,
   "id": "5717818f",
   "metadata": {},
   "outputs": [
    {
     "name": "stdout",
     "output_type": "stream",
     "text": [
      "R square errors is 0.9892214123411408\n"
     ]
    }
   ],
   "source": [
    "print(\"R square errors is\",error_score)"
   ]
  },
  {
   "cell_type": "code",
   "execution_count": null,
   "id": "56e7e516",
   "metadata": {},
   "outputs": [],
   "source": []
  },
  {
   "cell_type": "code",
   "execution_count": 28,
   "id": "5100286f",
   "metadata": {},
   "outputs": [],
   "source": [
    "Y_test =list(Y_test)"
   ]
  },
  {
   "cell_type": "code",
   "execution_count": 29,
   "id": "53216901",
   "metadata": {},
   "outputs": [
    {
     "data": {
      "image/png": "[encoded data removed]",
      "text/plain": [
       "<Figure size 432x288 with 1 Axes>"
      ]
     },
     "metadata": {
      "needs_background": "light"
     },
     "output_type": "display_data"
    }
   ],
   "source": [
    "plt.plot(Y_test,color = 'blue',label = 'Actual Value')\n",
    "plt.plot(test_data_predication,color = 'green',label = 'predicated Value')\n",
    "plt.title('Actual Value vs predicated Value')\n",
    "plt.xlabel('number of value')\n",
    "plt.ylabel('GLD price')\n",
    "plt.legend()\n",
    "plt.show()"
   ]
  },
  {
   "cell_type": "code",
   "execution_count": null,
   "id": "c8be4d86",
   "metadata": {},
   "outputs": [],
   "source": []
  }
 ],
 "metadata": {
  "kernelspec": {
   "display_name": "Python 3 (ipykernel)",
   "language": "python",
   "name": "python3"
  },
  "language_info": {
   "codemirror_mode": {
    "name": "ipython",
    "version": 3
   },
   "file_extension": ".py",
   "mimetype": "text/x-python",
   "name": "python",
   "nbconvert_exporter": "python",
   "pygments_lexer": "ipython3",
   "version": "3.10.1"
  }
 },
 "nbformat": 4,
 "nbformat_minor": 5
}
